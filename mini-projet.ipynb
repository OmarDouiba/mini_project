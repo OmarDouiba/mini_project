{
 "cells": [
  {
   "cell_type": "markdown",
   "id": "af81a7d0",
   "metadata": {},
   "source": [
    "# Etape\n",
    "$-----$\n",
    "\n",
    "$>$ 1st\n",
    "\n",
    "* convert csv to siam file\n",
    "* load data to x and y\n",
    "* add ones to matrix x\n",
    "* weight initiaalisation\n",
    "* optimaiser\n",
    "* accuarcy - presision"
   ]
  },
  {
   "cell_type": "code",
   "execution_count": 80,
   "id": "5c9938a2",
   "metadata": {},
   "outputs": [],
   "source": [
    "import numpy as np\n",
    "import matplotlib.pyplot as plt\n",
    "import random \n",
    "import pandas as pd"
   ]
  },
  {
   "cell_type": "markdown",
   "id": "f62d7d92",
   "metadata": {},
   "source": [
    "# convert csv to siam"
   ]
  },
  {
   "cell_type": "code",
   "execution_count": 81,
   "id": "705f2fe2",
   "metadata": {},
   "outputs": [],
   "source": [
    "# La fonction qui convertit un fichier de format(.csv) en un format(.siam)\n",
    "def csvTosiam(file_X,file_Y,file_siam):\n",
    "    with open(file_X, \"r\") as my_input_file_x:\n",
    "        x = [[int(i) for i in row.split(\",\")] for row in my_input_file_x]\n",
    "        n = len(x[0])\n",
    "        m = len(x)\n",
    "        c = 28\n",
    "        \n",
    "    with open(file_Y,\"r\") as my_input_file_y:\n",
    "        y=[int(i) for i in my_input_file_y]\n",
    "        \n",
    "    with open(file_siam,\"w\") as my_output_file:\n",
    "        print(m, file = my_output_file)\n",
    "        print(n, file = my_output_file)\n",
    "        print(c, file = my_output_file)\n",
    "        for i in range(m):\n",
    "            for j in range(n):\n",
    "                my_output_file.write(str(x[i][j]) + \"\\t\")\n",
    "            my_output_file.write(str(y[i]) + \"\\n\")\n",
    "    "
   ]
  },
  {
   "cell_type": "markdown",
   "id": "947b710a",
   "metadata": {},
   "source": [
    "# load data to x and y"
   ]
  },
  {
   "cell_type": "code",
   "execution_count": 82,
   "id": "c6eb0272",
   "metadata": {},
   "outputs": [],
   "source": [
    "#La fonction qui lit les données à partir d'un fichier (.siam)\n",
    "def loadSiamDataFile(file_name):\n",
    "    with open(file_name, \"r\") as my_input_file:\n",
    "        m=int(my_input_file.readline())\n",
    "        n=int(my_input_file.readline())\n",
    "        c=int(my_input_file.readline())\n",
    "        \n",
    "        X = [[int(i) for i in row.split()] for row in my_input_file]\n",
    "        \n",
    "    x = np.array([[X[i][j] for j in range(n)]for i in range(m)])\n",
    "    \n",
    "    y = np.array([X[i][n] for i in range(m)])\n",
    "    \n",
    "    return x,y,m,n"
   ]
  },
  {
   "cell_type": "code",
   "execution_count": 83,
   "id": "413c8377",
   "metadata": {},
   "outputs": [],
   "source": [
    "csvTosiam(\"csvTrainImages.csv\",\"csvTrainLabel.csv\",\"train.siam\")\n",
    "# csvTosiam(\"csvTestImages.csv\",\"csvTestLabel.csv\",\"train.siam\")"
   ]
  },
  {
   "cell_type": "code",
   "execution_count": 84,
   "id": "1288194f",
   "metadata": {},
   "outputs": [],
   "source": [
    "x1,y1,m1,n = loadSiamDataFile(\"train.siam\")\n",
    "y=np.resize(y1,(len(y1),1))"
   ]
  },
  {
   "cell_type": "code",
   "execution_count": 85,
   "id": "93cd0818",
   "metadata": {},
   "outputs": [],
   "source": [
    "def one_hot(y):\n",
    "    table = np.zeros((y.shape[0], 28))\n",
    "    for i in range(y.shape[0]):\n",
    "        table[i][int(y[i][0])-1] = 1 \n",
    "    return table\n"
   ]
  },
  {
   "cell_type": "code",
   "execution_count": 86,
   "id": "cdb6ab1a",
   "metadata": {},
   "outputs": [],
   "source": [
    "y1=one_hot(y)"
   ]
  },
  {
   "cell_type": "code",
   "execution_count": 87,
   "id": "243a40e1",
   "metadata": {},
   "outputs": [],
   "source": [
    "y1=y1.T"
   ]
  },
  {
   "cell_type": "code",
   "execution_count": 88,
   "id": "949a3858",
   "metadata": {},
   "outputs": [],
   "source": [
    "def normalize(x): \n",
    "    x = x / 255\n",
    "    return x "
   ]
  },
  {
   "cell_type": "code",
   "execution_count": 89,
   "id": "67288215",
   "metadata": {},
   "outputs": [],
   "source": [
    "x1=normalize(x1)"
   ]
  },
  {
   "cell_type": "code",
   "execution_count": 90,
   "id": "625d2296",
   "metadata": {},
   "outputs": [
    {
     "data": {
      "text/plain": [
       "array([[0., 0., 0., ..., 0., 0., 0.],\n",
       "       [0., 0., 0., ..., 0., 0., 0.],\n",
       "       [0., 0., 0., ..., 0., 0., 0.],\n",
       "       ...,\n",
       "       [0., 0., 0., ..., 0., 0., 0.],\n",
       "       [0., 0., 0., ..., 0., 0., 0.],\n",
       "       [0., 0., 0., ..., 0., 0., 0.]])"
      ]
     },
     "execution_count": 90,
     "metadata": {},
     "output_type": "execute_result"
    }
   ],
   "source": [
    "x1"
   ]
  },
  {
   "cell_type": "markdown",
   "id": "2255ce69",
   "metadata": {},
   "source": [
    "# shape real is for train\n",
    "* x1 (13440,1024)\n",
    "* y1(13440,1)\n",
    "* m=13440\n",
    "* n=1024"
   ]
  },
  {
   "cell_type": "code",
   "execution_count": 91,
   "id": "bd6a8aef",
   "metadata": {},
   "outputs": [
    {
     "name": "stdout",
     "output_type": "stream",
     "text": [
      "x1 = (13440, 1024)\n",
      "y1 = (28, 13440)\n",
      "m1 = 13440\n",
      "n = 1024\n"
     ]
    }
   ],
   "source": [
    "print(\"x1 =\",x1.shape)\n",
    "print(\"y1 =\",y1.shape)\n",
    "print(\"m1 =\",m1)\n",
    "print(\"n =\",n)"
   ]
  },
  {
   "cell_type": "code",
   "execution_count": 92,
   "id": "92139cab",
   "metadata": {},
   "outputs": [],
   "source": [
    "#La fonction qui ajoute une colonne des uns à un tableau\n",
    "def addones(x):\n",
    "    X = np.ones((len(x),len(x[0])+1))\n",
    "    for i in range(len(X)):\n",
    "        for j in range(1,len(X[0])):\n",
    "            X[i][j] = x[i][j-1]\n",
    "    return X"
   ]
  },
  {
   "cell_type": "code",
   "execution_count": 93,
   "id": "28601105",
   "metadata": {},
   "outputs": [],
   "source": [
    "X=addones(x1).T"
   ]
  },
  {
   "cell_type": "code",
   "execution_count": 94,
   "id": "bba02857",
   "metadata": {},
   "outputs": [
    {
     "data": {
      "text/plain": [
       "array([[1., 1., 1., ..., 1., 1., 1.],\n",
       "       [0., 0., 0., ..., 0., 0., 0.],\n",
       "       [0., 0., 0., ..., 0., 0., 0.],\n",
       "       ...,\n",
       "       [0., 0., 0., ..., 0., 0., 0.],\n",
       "       [0., 0., 0., ..., 0., 0., 0.],\n",
       "       [0., 0., 0., ..., 0., 0., 0.]])"
      ]
     },
     "execution_count": 94,
     "metadata": {},
     "output_type": "execute_result"
    }
   ],
   "source": [
    "X"
   ]
  },
  {
   "cell_type": "code",
   "execution_count": 95,
   "id": "7356cafe",
   "metadata": {},
   "outputs": [
    {
     "data": {
      "text/plain": [
       "(1025, 13440)"
      ]
     },
     "execution_count": 95,
     "metadata": {},
     "output_type": "execute_result"
    }
   ],
   "source": [
    "X.shape"
   ]
  },
  {
   "cell_type": "markdown",
   "id": "99d7daf3",
   "metadata": {},
   "source": [
    "# initialisation the weight\n",
    "\n",
    "* w1 =(c,n+1)   ==> (nombre des nuron de la couche de hiden , 1025) \n",
    "\n",
    "* w2 =(c,n+1)   ==> (nombre des nuron de la couche de sortie , nombre des nuron de la couche de hiden)\n",
    "\n",
    "* x =(n+1,1)    ==> (1025,13440) entre\n",
    "\n",
    "* z1 = np.dot(w1,x1)  shape ==> (nombre des nuron de la couche de hiden , 13440)\n",
    "\n",
    "* a1 = relu(z)  shape ==> (nombre des nuron de la couche de hiden , 13440)\n",
    "\n",
    "* z2 = np.dot(w2,a) shape ==> (nombre des nuron de la couche de sortie , 13440)\n",
    "\n",
    "* a2 = softmax(z2) shape ==> (nombre des nuron de la couche de sortie , 13440)"
   ]
  },
  {
   "cell_type": "code",
   "execution_count": 96,
   "id": "3399bfb0",
   "metadata": {},
   "outputs": [],
   "source": [
    "#Fonction pour l'initialisation des poids\n",
    "def init_weights(n_line,c_column, zeros = False):\n",
    "    if zeros: # initialisation à des valeurs nulles    \n",
    "        w = np.zeros(n_line,c_column)\n",
    "    else: # initialisation par des valeurs aléatoires    \n",
    "        w = np.random.randn(n_line,c_column) #(n,1): shape\n",
    "    return w"
   ]
  },
  {
   "cell_type": "code",
   "execution_count": 97,
   "id": "4a83c8ba",
   "metadata": {},
   "outputs": [],
   "source": [
    "# numbre of nuron in hiden lyaer is 100\n",
    "w1=init_weights(256,X.shape[0], zeros = False) #weight Entre Layer\n",
    "# number of nuron in the last layer is \n",
    "w2=init_weights(y1.shape[0],w1.shape[0], zeros = False) #weight hiden layer"
   ]
  },
  {
   "cell_type": "code",
   "execution_count": 98,
   "id": "9051711b",
   "metadata": {},
   "outputs": [
    {
     "data": {
      "text/plain": [
       "((256, 1025), (28, 256))"
      ]
     },
     "execution_count": 98,
     "metadata": {},
     "output_type": "execute_result"
    }
   ],
   "source": [
    "w1.shape,w2.shape"
   ]
  },
  {
   "cell_type": "code",
   "execution_count": 99,
   "id": "b6419ac9",
   "metadata": {},
   "outputs": [
    {
     "data": {
      "text/plain": [
       "array([[ 1.39761023,  1.53020587,  0.05455779, ..., -0.38401776,\n",
       "         0.65537689,  0.55109601],\n",
       "       [ 0.64762604, -1.60215353,  0.89809339, ..., -0.28285229,\n",
       "         0.13108048,  1.67870094],\n",
       "       [-0.19288973, -0.08734069,  1.43605551, ...,  0.82394995,\n",
       "        -1.01292701,  0.18600865],\n",
       "       ...,\n",
       "       [ 0.44479508,  1.21684285,  0.27224547, ...,  0.58627362,\n",
       "        -0.05419805,  1.00761385],\n",
       "       [-2.27356355,  0.4982143 , -1.43456735, ..., -0.71558156,\n",
       "         0.882648  ,  0.84263041],\n",
       "       [ 0.35992994,  1.40132408, -0.78077139, ..., -0.22801627,\n",
       "         0.50727587, -0.85910996]])"
      ]
     },
     "execution_count": 99,
     "metadata": {},
     "output_type": "execute_result"
    }
   ],
   "source": [
    "w2"
   ]
  },
  {
   "cell_type": "markdown",
   "id": "5f106fa1",
   "metadata": {},
   "source": [
    "# Note\n",
    "*-----------------------------------------------------------------------------------------------------------------*\n",
    "\n",
    "$z =w.x$\n",
    "\n",
    "$a=softmax(z)$\n",
    "\n",
    "$da = \\frac{-y}{a}$\n",
    "\n",
    "$dz = {a}-{y}$\n",
    "\n",
    "$dw = {(a}-{y)}.*{x}$\n",
    "\n",
    "*-----------------------------------------------------------------------------------------------------------------*"
   ]
  },
  {
   "cell_type": "code",
   "execution_count": 100,
   "id": "a0900b40",
   "metadata": {},
   "outputs": [],
   "source": [
    "\n",
    "# np.random.seed(136)\n",
    "# shuffle_index = np.random.permutation(m1)\n",
    "# X, y1 = X[:,shuffle_index], y1[:,shuffle_index]"
   ]
  },
  {
   "cell_type": "code",
   "execution_count": 101,
   "id": "16b7e451",
   "metadata": {},
   "outputs": [],
   "source": [
    "def ReLU_act(x, der=False):\n",
    "    import numpy as np\n",
    "    \n",
    "    if (der == True): # the derivative of the ReLU is the Heaviside Theta\n",
    "        f = np.heaviside(x, 1)\n",
    "    else :\n",
    "        f = np.maximum(x, 0)\n",
    "    \n",
    "    return f\n",
    "\n",
    "def softmax(z):\n",
    "    z = z - np.max(z, axis = 1).reshape(z.shape[0],1)\n",
    "    return np.exp(z) / np.sum(np.exp(z), axis = 1).reshape(z.shape[0],1)\n"
   ]
  },
  {
   "cell_type": "code",
   "execution_count": 102,
   "id": "b54bdd25",
   "metadata": {},
   "outputs": [
    {
     "data": {
      "image/png": "[encoded data removed]",
      "text/plain": [
       "<Figure size 432x288 with 1 Axes>"
      ]
     },
     "metadata": {
      "needs_background": "light"
     },
     "output_type": "display_data"
    }
   ],
   "source": [
    "%matplotlib inline\n",
    "import matplotlib\n",
    "import matplotlib.pyplot as plt\n",
    "\n",
    "i = 1\n",
    "plt.imshow(X[1:,i].reshape(32,32), cmap = matplotlib.cm.binary)\n",
    "# plt.axis(\"off\")\n",
    "plt.show()\n",
    "# print(np.argmax(y1[:,i])+1)\n",
    "# print(y1[:,i])"
   ]
  },
  {
   "cell_type": "code",
   "execution_count": 103,
   "id": "0f71b174",
   "metadata": {},
   "outputs": [],
   "source": [
    "def compute_loss(a,y):\n",
    "    m1=X.shape[1]\n",
    "    L = -(1/m1) * ( np.sum(y*np.log10(a, out=a, where=a > 0)) ) \n",
    "\n",
    "    return L"
   ]
  },
  {
   "cell_type": "code",
   "execution_count": 142,
   "id": "c169ded7",
   "metadata": {},
   "outputs": [],
   "source": [
    "def gradient_descent_stochastique(X, y1,w1,w2, alpha = 0.00002,tmax=300):#0.00000001 #0.0000000001\n",
    "    Jw=[]\n",
    "    ep=[]\n",
    "    m1=X.shape[1] # 13\n",
    "\n",
    "    \n",
    "    for i in range(tmax):\n",
    "        #shuffle data\n",
    "        shuffle_index = np.random.permutation(m1)\n",
    "        X, y1 = X[:,shuffle_index], y1[:,shuffle_index] \n",
    "        #forward prop\n",
    "        Z1=np.dot(w1,X)\n",
    "        A1=ReLU_act(Z1, der=False)\n",
    "        Z2=np.dot(w2,A1)\n",
    "        A2=softmax(Z2)\n",
    "\n",
    "        #cost fun\n",
    "        cost = compute_loss(A2, y1)\n",
    "\n",
    "        #backpropagation\n",
    "        dZ2 = A2-y1\n",
    "        dw2 = (1/m1) * np.dot(dZ2, A1.T)\n",
    "        dZ1 = (1/m1) * np.dot(w2.T, dZ2) *  ReLU_act(A1, der=True)\n",
    "        dw1 = (1/m1) * np.dot(dZ1, X.T)\n",
    "\n",
    "        #updating the weight\n",
    "        w2 = w2 - alpha * dw2\n",
    "        w1 = w1 - alpha * dw1\n",
    "\n",
    "        #add cost\n",
    "        Jw.append(cost) # Jw[t]\n",
    "        ep.append(i)\n",
    "        if i % 10 == 0:\n",
    "            print(f\"epoch {i} == cost {cost}\")\n",
    "\n",
    "    return w1,w2, Jw,cost,ep"
   ]
  },
  {
   "cell_type": "code",
   "execution_count": 139,
   "id": "91f681a0",
   "metadata": {},
   "outputs": [
    {
     "name": "stdout",
     "output_type": "stream",
     "text": [
      "epoch 0 == cost 118.24652465945158\n",
      "epoch 10 == cost 119.62537064604336\n",
      "epoch 20 == cost 121.05494982270906\n",
      "epoch 30 == cost 122.53080371469274\n",
      "epoch 40 == cost 124.06868739696993\n",
      "epoch 50 == cost 125.66419657435986\n",
      "epoch 60 == cost 127.30153026457567\n",
      "epoch 70 == cost 129.05350178667908\n",
      "epoch 80 == cost 130.95515707886548\n",
      "epoch 90 == cost 132.92248883304262\n",
      "epoch 100 == cost 134.9637966449851\n",
      "epoch 110 == cost 137.07680103255268\n",
      "epoch 120 == cost 139.23935927855814\n",
      "epoch 130 == cost 141.44751382315008\n",
      "epoch 140 == cost 143.6996556423304\n",
      "epoch 150 == cost 145.9983669620041\n",
      "epoch 160 == cost 148.36523404550354\n",
      "epoch 170 == cost 150.7430936424695\n",
      "epoch 180 == cost 153.1970019533189\n",
      "epoch 190 == cost 155.7501598566662\n",
      "epoch 200 == cost 158.43914023515356\n",
      "epoch 210 == cost 161.1410727426355\n",
      "epoch 220 == cost 163.87637052718884\n",
      "epoch 230 == cost 166.59343541839456\n",
      "epoch 240 == cost 169.5325301415694\n",
      "epoch 250 == cost 172.41858465459293\n",
      "epoch 260 == cost 175.4517510299913\n",
      "epoch 270 == cost 178.55864117821352\n",
      "epoch 280 == cost 181.77082114263757\n",
      "epoch 290 == cost 185.2376310892305\n",
      "w1 final = [[-0.10078574 -1.14524937 -1.20192019 ... -0.77475589  0.05028978\n",
      "   1.20805078]\n",
      " [ 0.99341419  1.52713744  0.70165403 ... -1.35253366 -0.70786596\n",
      "  -0.45694865]\n",
      " [-0.72137458  0.03315469 -0.27905037 ... -1.65797054 -1.21128398\n",
      "   0.2922052 ]\n",
      " ...\n",
      " [ 0.11387432  0.27232925  2.05450626 ...  1.01423326  0.00547648\n",
      "  -0.21072334]\n",
      " [-0.85526505  1.34292697  0.38580354 ... -1.39772701  1.69006725\n",
      "  -0.95272524]\n",
      " [-0.85061023 -1.8907807   0.70472624 ...  0.68892664 -0.3765204\n",
      "   1.48736714]]\n",
      "Jw initial = 118.24652465945158\n"
     ]
    }
   ],
   "source": [
    "w1,w2, Jw,cost,ep= gradient_descent_stochastique(X, y1, w1,w2) \n",
    "\n",
    "# Affichage des résultats produits par la fonction gradient_descent\n",
    "print('w1 final =', w1)\n",
    "# print('w2 final =', w2)\n",
    "print('Jw initial =', Jw[0])"
   ]
  },
  {
   "cell_type": "code",
   "execution_count": 140,
   "id": "96574e78",
   "metadata": {},
   "outputs": [
    {
     "data": {
      "image/png": "[encoded data removed]",
      "text/plain": [
       "<Figure size 432x288 with 1 Axes>"
      ]
     },
     "metadata": {
      "needs_background": "light"
     },
     "output_type": "display_data"
    }
   ],
   "source": [
    "plt.plot(ep,Jw)\n",
    "plt.show()"
   ]
  },
  {
   "cell_type": "code",
   "execution_count": 143,
   "id": "70eb4f7f",
   "metadata": {},
   "outputs": [
    {
     "name": "stdout",
     "output_type": "stream",
     "text": [
      "epoch 0 == cost 188.48142062721374\n",
      "epoch 10 == cost 206.40166759800692\n",
      "epoch 20 == cost 173.24515787382066\n",
      "epoch 30 == cost 116.01519668843072\n",
      "epoch 40 == cost 71.27482233093734\n",
      "epoch 50 == cost 46.775612124460075\n",
      "epoch 60 == cost 35.148883808001536\n",
      "epoch 70 == cost 28.326852884327863\n",
      "epoch 80 == cost 23.36660724209464\n",
      "epoch 90 == cost 20.20924614448311\n",
      "epoch 100 == cost 17.857623641970168\n",
      "epoch 110 == cost 15.900179447266007\n",
      "epoch 120 == cost 14.48707480966517\n",
      "epoch 130 == cost 13.396235631506078\n",
      "epoch 140 == cost 12.344577559863554\n",
      "epoch 150 == cost 11.362056205542116\n",
      "epoch 160 == cost 10.696661086810275\n",
      "epoch 170 == cost 9.893738591236161\n",
      "epoch 180 == cost 9.292890256782755\n",
      "epoch 190 == cost 8.704894129304222\n",
      "epoch 200 == cost 8.348040531366104\n",
      "epoch 210 == cost 8.104883919155528\n",
      "epoch 220 == cost 7.832864244221303\n",
      "epoch 230 == cost 7.579726511817785\n",
      "epoch 240 == cost 7.225195670611966\n",
      "epoch 250 == cost 7.083087564476766\n",
      "epoch 260 == cost 6.938194426745036\n",
      "epoch 270 == cost 6.766282636653021\n",
      "epoch 280 == cost 6.471117399872129\n",
      "epoch 290 == cost 6.293596010916819\n",
      "w1 final = [[-0.100552   -1.14524925 -1.20192017 ... -0.77475564  0.0502901\n",
      "   1.20805174]\n",
      " [ 0.99370102  1.52713758  0.70165405 ... -1.35253337 -0.70786557\n",
      "  -0.45694752]\n",
      " [-0.72117953  0.0331548  -0.27905036 ... -1.65797034 -1.21128371\n",
      "   0.29220597]\n",
      " ...\n",
      " [ 0.11436665  0.27232949  2.05450629 ...  1.01423377  0.00547714\n",
      "  -0.21072139]\n",
      " [-0.85491659  1.34292714  0.38580356 ... -1.39772666  1.69006771\n",
      "  -0.95272387]\n",
      " [-0.8504932  -1.89078064  0.70472625 ...  0.68892676 -0.37652024\n",
      "   1.48736762]]\n",
      "Jw initial = 188.48142062721374\n"
     ]
    }
   ],
   "source": [
    "#increasing learning rate   \n",
    "w1,w2, Jw,cost,ep= gradient_descent_stochastique(X, y1, w1,w2) \n",
    "\n",
    "# Affichage des résultats produits par la fonction gradient_descent\n",
    "print('w1 final =', w1)\n",
    "# print('w2 final =', w2)\n",
    "print('Jw initial =', Jw[0])"
   ]
  },
  {
   "cell_type": "code",
   "execution_count": 144,
   "id": "2ec13961",
   "metadata": {},
   "outputs": [
    {
     "data": {
      "image/png": "[encoded data removed]",
      "text/plain": [
       "<Figure size 432x288 with 1 Axes>"
      ]
     },
     "metadata": {
      "needs_background": "light"
     },
     "output_type": "display_data"
    }
   ],
   "source": [
    "plt.plot(ep,Jw)\n",
    "plt.show()"
   ]
  },
  {
   "cell_type": "code",
   "execution_count": 145,
   "id": "6fb1453f",
   "metadata": {},
   "outputs": [
    {
     "name": "stdout",
     "output_type": "stream",
     "text": [
      "epoch 0 == cost 6.23413946542035\n",
      "epoch 10 == cost 6.028352389541646\n",
      "epoch 20 == cost 5.844705134167756\n",
      "epoch 30 == cost 5.610881271840143\n",
      "epoch 40 == cost 5.495415077257773\n",
      "epoch 50 == cost 5.330460298625274\n",
      "epoch 60 == cost 5.260552736126238\n",
      "epoch 70 == cost 5.189668498609135\n",
      "epoch 80 == cost 4.973144014437256\n",
      "epoch 90 == cost 4.851430187407659\n",
      "epoch 100 == cost 4.77677608529861\n",
      "epoch 110 == cost 4.677310716759798\n",
      "epoch 120 == cost 4.552913058585574\n",
      "epoch 130 == cost 4.403437804024186\n",
      "epoch 140 == cost 4.252897932381068\n",
      "epoch 150 == cost 4.197742103285466\n",
      "epoch 160 == cost 4.1661628850700545\n",
      "epoch 170 == cost 4.1100214996861615\n",
      "epoch 180 == cost 4.029258489617596\n",
      "epoch 190 == cost 3.923759250152973\n",
      "epoch 200 == cost 3.74530409902687\n",
      "epoch 210 == cost 3.73450290697125\n",
      "epoch 220 == cost 3.651173494812486\n",
      "epoch 230 == cost 3.51919664522894\n",
      "epoch 240 == cost 3.4588329582214365\n",
      "epoch 250 == cost 3.3499052278419623\n",
      "epoch 260 == cost 3.2884495342450006\n",
      "epoch 270 == cost 3.2267182625696114\n",
      "epoch 280 == cost 3.212748334841333\n",
      "epoch 290 == cost 3.1985950852460827\n",
      "w1 final = [[-0.10049997 -1.14524925 -1.20192017 ... -0.77475563  0.05029014\n",
      "   1.20805185]\n",
      " [ 0.99376503  1.52713758  0.70165405 ... -1.35253335 -0.70786553\n",
      "  -0.4569474 ]\n",
      " [-0.72112403  0.0331548  -0.27905036 ... -1.65797033 -1.21128369\n",
      "   0.29220604]\n",
      " ...\n",
      " [ 0.11447141  0.27232949  2.05450629 ...  1.01423379  0.00547719\n",
      "  -0.21072124]\n",
      " [-0.85483372  1.34292714  0.38580356 ... -1.39772665  1.69006775\n",
      "  -0.95272376]\n",
      " [-0.85046553 -1.89078064  0.70472625 ...  0.68892677 -0.37652023\n",
      "   1.48736765]]\n",
      "Jw initial = 6.23413946542035\n"
     ]
    }
   ],
   "source": [
    "#2 trining the same last LR \n",
    "#increasing learning rate   \n",
    "w1,w2, Jw,cost,ep= gradient_descent_stochastique(X, y1, w1,w2) \n",
    "\n",
    "# Affichage des résultats produits par la fonction gradient_descent\n",
    "print('w1 final =', w1)\n",
    "# print('w2 final =', w2)\n",
    "print('Jw initial =', Jw[0])"
   ]
  },
  {
   "cell_type": "code",
   "execution_count": 146,
   "id": "2b09f008",
   "metadata": {},
   "outputs": [
    {
     "data": {
      "image/png": "[encoded data removed]",
      "text/plain": [
       "<Figure size 432x288 with 1 Axes>"
      ]
     },
     "metadata": {
      "needs_background": "light"
     },
     "output_type": "display_data"
    }
   ],
   "source": [
    "plt.plot(ep,Jw)\n",
    "plt.show()"
   ]
  },
  {
   "cell_type": "code",
   "execution_count": 147,
   "id": "ca407ef1",
   "metadata": {},
   "outputs": [
    {
     "name": "stdout",
     "output_type": "stream",
     "text": [
      "epoch 0 == cost 3.160184396892181\n",
      "epoch 10 == cost 3.0492668572616872\n",
      "epoch 20 == cost 2.986075016130388\n",
      "epoch 30 == cost 2.874441959381341\n",
      "epoch 40 == cost 2.8587342482274973\n",
      "epoch 50 == cost 2.8188001573340737\n",
      "epoch 60 == cost 2.8027145794192827\n",
      "epoch 70 == cost 2.7383491739975696\n",
      "epoch 80 == cost 2.7218577764632212\n",
      "epoch 90 == cost 2.6571109313731163\n",
      "epoch 100 == cost 2.616169086603857\n",
      "epoch 110 == cost 2.5750002879215126\n",
      "epoch 120 == cost 2.533626804967136\n",
      "epoch 130 == cost 2.516141929667826\n",
      "epoch 140 == cost 2.4263404552683974\n",
      "epoch 150 == cost 2.38435015880182\n",
      "epoch 160 == cost 2.3662640007683238\n",
      "epoch 170 == cost 2.3480473747643003\n",
      "epoch 180 == cost 2.30563842372285\n",
      "epoch 190 == cost 2.2870288345927867\n",
      "epoch 200 == cost 2.2443114062049556\n",
      "epoch 210 == cost 2.2254808575227485\n",
      "epoch 220 == cost 2.1583815095404066\n",
      "epoch 230 == cost 2.1391988794163304\n",
      "epoch 240 == cost 2.0476522365486276\n",
      "epoch 250 == cost 2.052131060827175\n",
      "epoch 260 == cost 2.0084268999263943\n",
      "epoch 270 == cost 1.9645448154252791\n",
      "epoch 280 == cost 1.9446282257725491\n",
      "epoch 290 == cost 1.9245513797768248\n",
      "w1 final = [[-0.10046519 -1.14524925 -1.20192017 ... -0.77475563  0.05029015\n",
      "   1.20805188]\n",
      " [ 0.99380993  1.52713758  0.70165405 ... -1.35253335 -0.70786552\n",
      "  -0.45694736]\n",
      " [-0.72108516  0.0331548  -0.27905036 ... -1.65797033 -1.21128368\n",
      "   0.29220606]\n",
      " ...\n",
      " [ 0.11454362  0.27232949  2.05450629 ...  1.01423379  0.0054772\n",
      "  -0.21072118]\n",
      " [-0.85477717  1.34292714  0.38580356 ... -1.39772665  1.69006776\n",
      "  -0.95272372]\n",
      " [-0.85044666 -1.89078064  0.70472625 ...  0.68892677 -0.37652023\n",
      "   1.48736766]]\n",
      "Jw initial = 3.160184396892181\n"
     ]
    }
   ],
   "source": [
    "#3 trining the same last LR \n",
    "#increasing learning rate   \n",
    "w1,w2, Jw,cost,ep= gradient_descent_stochastique(X, y1, w1,w2) \n",
    "\n",
    "# Affichage des résultats produits par la fonction gradient_descent\n",
    "print('w1 final =', w1)\n",
    "# print('w2 final =', w2)\n",
    "print('Jw initial =', Jw[0])"
   ]
  },
  {
   "cell_type": "code",
   "execution_count": 148,
   "id": "f2e61225",
   "metadata": {},
   "outputs": [
    {
     "data": {
      "image/png": "[encoded data removed]",
      "text/plain": [
       "<Figure size 432x288 with 1 Axes>"
      ]
     },
     "metadata": {
      "needs_background": "light"
     },
     "output_type": "display_data"
    }
   ],
   "source": [
    "plt.plot(ep,Jw)\n",
    "plt.show()"
   ]
  },
  {
   "cell_type": "code",
   "execution_count": null,
   "id": "605f5d78",
   "metadata": {},
   "outputs": [],
   "source": []
  }
 ],
 "metadata": {
  "kernelspec": {
   "display_name": "Python 3",
   "language": "python",
   "name": "python3"
  },
  "language_info": {
   "codemirror_mode": {
    "name": "ipython",
    "version": 3
   },
   "file_extension": ".py",
   "mimetype": "text/x-python",
   "name": "python",
   "nbconvert_exporter": "python",
   "pygments_lexer": "ipython3",
   "version": "3.8.8"
  }
 },
 "nbformat": 4,
 "nbformat_minor": 5
}
